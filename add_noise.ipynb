{
 "cells": [
  {
   "cell_type": "code",
   "execution_count": 1,
   "metadata": {},
   "outputs": [],
   "source": [
    "import cv2\n",
    "import matplotlib.pyplot as plt\n",
    "import skimage\n",
    "from skimage.metrics import mean_squared_error, peak_signal_noise_ratio"
   ]
  },
  {
   "cell_type": "code",
   "execution_count": 2,
   "metadata": {},
   "outputs": [],
   "source": [
    "imagen = cv2.imread('tests/lena1000p.jpg', cv2.IMREAD_GRAYSCALE)\n"
   ]
  },
  {
   "cell_type": "code",
   "execution_count": 3,
   "metadata": {},
   "outputs": [],
   "source": [
    "def add_noise(image, mode):\n",
    "    \"\"\"los modos son:\n",
    "                -'gaussian'\n",
    "                -'localvar'\n",
    "                -'poisson'\n",
    "                -'salt'\n",
    "                -'pepper'\n",
    "                -'s&p'\n",
    "                -'speckle'\n",
    "    \"\"\"\n",
    "   \n",
    "    if mode is not None:\n",
    "        noised_image = skimage.util.random_noise(image, mode=mode)\n",
    "    else:\n",
    "        noised_image = image\n",
    "        \n",
    "    return noised_image"
   ]
  },
  {
   "cell_type": "code",
   "execution_count": null,
   "metadata": {},
   "outputs": [],
   "source": [
    "\n"
   ]
  }
 ],
 "metadata": {
  "kernelspec": {
   "display_name": "Python 3",
   "language": "python",
   "name": "python3"
  },
  "language_info": {
   "codemirror_mode": {
    "name": "ipython",
    "version": 3
   },
   "file_extension": ".py",
   "mimetype": "text/x-python",
   "name": "python",
   "nbconvert_exporter": "python",
   "pygments_lexer": "ipython3",
   "version": "3.6.9"
  }
 },
 "nbformat": 4,
 "nbformat_minor": 4
}
