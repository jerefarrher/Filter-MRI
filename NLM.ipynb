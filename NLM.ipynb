{
 "cells": [
  {
   "cell_type": "code",
   "execution_count": 8,
   "metadata": {},
   "outputs": [],
   "source": [
    "import cv2\n",
    "import numpy as np\n",
    "from matplotlib import pyplot as plt\n",
    "import matplotlib.pyplot as plt\n",
    "import math\n",
    "from PIL import Image, ImageFilter\n",
    "from skimage.measure import compare_ssim as ssim\n",
    "from skimage.measure import compare_psnr as psnr\n",
    "from skimage.metrics import peak_signal_noise_ratio\n",
    "from skimage.metrics import mean_squared_error\n",
    "from skimage import img_as_float\n",
    "from skimage.filters import threshold_otsu"
   ]
  },
  {
   "cell_type": "code",
   "execution_count": 9,
   "metadata": {},
   "outputs": [],
   "source": [
    "#imagen original que incluye un ruido intrinseco (en escala de grises)\n",
    "imagen = cv2.imread('imagenx', cv2.IMREAD_GRAYSCALE)"
   ]
  },
  {
   "cell_type": "code",
   "execution_count": 10,
   "metadata": {},
   "outputs": [],
   "source": [
    "# Convert to normalized floating point\n",
    "imagen = cv2.normalize(imagen.astype('float'), None, 0.0, 1.0, cv2.NORM_MINMAX) "
   ]
  },
  {
   "cell_type": "code",
   "execution_count": 17,
   "metadata": {},
   "outputs": [],
   "source": [
    "#funcion sigma\n",
    "\n",
    "def SigmaFondo(imagen):\n",
    "\n",
    "    sqImagen = imagen**2\n",
    "    umbral = threshold_otsu(sqImagen) \n",
    "    fondo = (sqImagen < umbral)*sqImagen \n",
    "    sigma = np.std(fondo) \n",
    "    return sigma"
   ]
  },
  {
   "cell_type": "code",
   "execution_count": 54,
   "metadata": {},
   "outputs": [],
   "source": [
    "#funcion kernel \n",
    "def make_kernel(f):              \n",
    " \n",
    "    kernel=np.zeros((2*f+1,2*f+1))  \n",
    "    for d in range(1,f+1):    \n",
    "        value= 1 / (2*d+1)**2  \n",
    "        for i in range(-d,d+1):\n",
    "            for j in range(-d,d+1):\n",
    "                kernel[f+1-i-1,f+1-j-1]= kernel[f+1-i-1,f+1-j-1] + value \n",
    "     \n",
    "    kernel = kernel / f\n",
    "    return kernel"
   ]
  },
  {
   "cell_type": "code",
   "execution_count": 71,
   "metadata": {},
   "outputs": [],
   "source": [
    "#filtro NLM \n",
    "\n",
    "def FiltroNLM(imagen,sigma):\n",
    "    \n",
    "#     t: radio ventana de b�squeda\n",
    "#     f: radio ventana de similitud\n",
    "#     h: grado de filtrado\n",
    "#     LA IAMGEN QUE SE INGRESA DEBE ESTAR EN GRAYSCALE Y NORMALIZADA CON:\n",
    "            #cv2.normalize(imagen.astype('float'), None, 0.0, 1.0, cv2.NORM_MINMAX) \n",
    "#     Implementation of the Non local filter proposed for A. Buades, B. Coll and J.M. Morel in\n",
    "#     \"A non-local algorithm for image denoising\"\n",
    "\n",
    "    t = 7    #/7\n",
    "    f = 9   #/5\n",
    "    h = 1.5*sigma\n",
    "    \n",
    "    #tamaño de la imagen\n",
    "    [m,n] = imagen.shape \n",
    "    \n",
    "    #memoria para el output\n",
    "    NLM = np.zeros((m,n))\n",
    "    UNLM = np.zeros((m,n))\n",
    "    \n",
    "    #Replicate the boundaries of the input image\n",
    "    input2 = np.pad(imagen, (f, f), 'symmetric') #para abarcar los pixeles de los bordes\n",
    "    \n",
    "    # Used kernel\n",
    "    kernel = make_kernel(f)             \n",
    "    kernel = kernel / sum(sum(kernel))  \n",
    "    \n",
    "    \n",
    "    h=h*h\n",
    "    \n",
    "    for i in range(1,m+1):      #recorre todas las filas                      \n",
    "        for j in range(1,n+1):      #recorre todas las columnas\n",
    "            \n",
    "            i1 = i+ f\n",
    "            j1 = j+ f\n",
    "                \n",
    "            W1= input2[i1-f-1:i1+f , j1-f-1:j1+f]  \n",
    "\n",
    "            wmax=0 \n",
    "            average=0\n",
    "            sweight=0\n",
    "         \n",
    "            rmin = max(i1-t,f+1)\n",
    "            rmax = min(i1+t,m+f)\n",
    "            smin = max(j1-t,f+1)\n",
    "            smax = min(j1+t,n+f)\n",
    "            \n",
    "            for r in range(rmin,rmax+1,1):                          \n",
    "                for s in range(smin,smax+1,1):                      \n",
    "                                               \n",
    "                    if (r==i1 and s==j1):\n",
    "                        continue\n",
    "\n",
    "                    W2= input2[r-f-1:r+f , s-f-1:s+f]                \n",
    "                    d = sum(sum(kernel*(W1-W2)*(W1-W2)))\n",
    "                    w = math.exp(-d/h)   \n",
    "                    \n",
    "                    if w>wmax:                \n",
    "                        wmax=w                   \n",
    "\n",
    "                    sweight = sweight + w\n",
    "                    average = average + w*input2[r,s]\n",
    "                    \n",
    "\n",
    "            average = average + wmax*input2[i1,j1]\n",
    "            sweight = sweight + wmax\n",
    "            \n",
    "            if sweight > 0:\n",
    "                NLM[i-1,j-1] = average / sweight               \n",
    "            else:\n",
    "                NLM[i,j] = imagen[i,j]\n",
    "                \n",
    "    UNLM = np.sqrt(NLM**2 - 2*sigma*sigma).real                    \n",
    "    Residuo = imagen - UNLM\n",
    "    \n",
    "    return NLM,UNLM,Residuo\n"
   ]
  },
  {
   "cell_type": "code",
   "execution_count": 72,
   "metadata": {},
   "outputs": [],
   "source": [
    "sigma = SigmaFondo(imagen)"
   ]
  },
  {
   "cell_type": "code",
   "execution_count": 73,
   "metadata": {},
   "outputs": [
    {
     "name": "stderr",
     "output_type": "stream",
     "text": [
      "/usr/local/lib/python3.6/dist-packages/ipykernel_launcher.py:76: RuntimeWarning: invalid value encountered in sqrt\n"
     ]
    }
   ],
   "source": [
    "[NLM,imagen_1,Residuo1] = FiltroNLM(imagen,sigma)\n"
   ]
  },
  {
   "cell_type": "code",
   "execution_count": 67,
   "metadata": {},
   "outputs": [
    {
     "name": "stderr",
     "output_type": "stream",
     "text": [
      "/usr/local/lib/python3.6/dist-packages/ipykernel_launcher.py:2: UserWarning: DEPRECATED: skimage.measure.compare_psnr has been moved to skimage.metrics.peak_signal_noise_ratio. It will be removed from skimage.measure in version 0.18.\n",
      "  \n",
      "/usr/local/lib/python3.6/dist-packages/ipykernel_launcher.py:3: UserWarning: DEPRECATED: skimage.measure.compare_ssim has been moved to skimage.metrics.structural_similarity. It will be removed from skimage.measure in version 0.18.\n",
      "  This is separate from the ipykernel package so we can avoid doing imports until\n"
     ]
    }
   ],
   "source": [
    "#metricas\n",
    "psnr_1 = psnr(imagen,NLM)\n",
    "ssim_1 = ssim(imagen, NLM)\n",
    "mse_none = mean_squared_error(imagen, NLM)"
   ]
  },
  {
   "cell_type": "code",
   "execution_count": 68,
   "metadata": {},
   "outputs": [
    {
     "data": {
      "text/plain": [
       "26.203398329606312"
      ]
     },
     "execution_count": 68,
     "metadata": {},
     "output_type": "execute_result"
    }
   ],
   "source": [
    "psnr_1"
   ]
  },
  {
   "cell_type": "code",
   "execution_count": 69,
   "metadata": {},
   "outputs": [
    {
     "data": {
      "text/plain": [
       "0.7928915191330081"
      ]
     },
     "execution_count": 69,
     "metadata": {},
     "output_type": "execute_result"
    }
   ],
   "source": [
    "ssim_1"
   ]
  },
  {
   "cell_type": "code",
   "execution_count": 70,
   "metadata": {},
   "outputs": [
    {
     "data": {
      "text/plain": [
       "0.0023969565801194945"
      ]
     },
     "execution_count": 70,
     "metadata": {},
     "output_type": "execute_result"
    }
   ],
   "source": [
    "mse_none"
   ]
  },
  {
   "cell_type": "code",
   "execution_count": null,
   "metadata": {},
   "outputs": [],
   "source": []
  },
  {
   "cell_type": "code",
   "execution_count": null,
   "metadata": {},
   "outputs": [],
   "source": []
  },
  {
   "cell_type": "code",
   "execution_count": null,
   "metadata": {},
   "outputs": [],
   "source": []
  },
  {
   "cell_type": "code",
   "execution_count": null,
   "metadata": {},
   "outputs": [],
   "source": []
  }
 ],
 "metadata": {
  "kernelspec": {
   "display_name": "Python 3",
   "language": "python",
   "name": "python3"
  },
  "language_info": {
   "codemirror_mode": {
    "name": "ipython",
    "version": 3
   },
   "file_extension": ".py",
   "mimetype": "text/x-python",
   "name": "python",
   "nbconvert_exporter": "python",
   "pygments_lexer": "ipython3",
   "version": "3.6.9"
  }
 },
 "nbformat": 4,
 "nbformat_minor": 4
}
